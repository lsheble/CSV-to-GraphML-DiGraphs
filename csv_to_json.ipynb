{
 "cells": [
  {
   "cell_type": "code",
   "execution_count": 7,
   "metadata": {
    "collapsed": false
   },
   "outputs": [],
   "source": [
    "# -*- coding: utf-8 -*-\n",
    "\"\"\"\n",
    "Created on Tue May 24 13:18:46 2016\n",
    "@author: ShebleAdmin\n",
    "more generic csv to json writer\n",
    "uses name of input file to name output file\n",
    "input file name, path need to be updated for files\n",
    "\"\"\"\n",
    "\n",
    "import csv\n",
    "import json\n",
    "import os\n",
    "\n",
    "\n",
    "csv_file_name = 'Coding_Sets_Master_Copy.csv'\n",
    "\n",
    "path = 'texts_nlp/'\n",
    "\n",
    "json_file_name = csv_file_name.rstrip('.csv') + '.json'\n",
    "csv_in = os.path.join(path, csv_file_name)\n",
    "json_out = os.path.join(path,json_file_name)\n",
    "\n",
    "csv_file = open(csv_in, \"r\")\n",
    "\n",
    "csv_rows = []\n",
    "\n",
    "reader = csv.DictReader(csv_file)\n",
    "\n",
    "fieldnames = reader.fieldnames\n",
    "\n",
    "for row in reader:\n",
    "    csv_rows.extend([{fieldnames[i]:row[fieldnames[i]] for i in range(len(fieldnames))}])\n",
    "\n",
    "\n",
    "with open(json_out, 'w') as f:\n",
    "    f.write(json.dumps(csv_rows, sort_keys=False, indent=4, separators=(',',': ')))\n",
    "\n",
    "csv_file.close()"
   ]
  },
  {
   "cell_type": "code",
   "execution_count": null,
   "metadata": {
    "collapsed": true
   },
   "outputs": [],
   "source": []
  }
 ],
 "metadata": {
  "anaconda-cloud": {},
  "kernelspec": {
   "display_name": "Python [conda env:py35]",
   "language": "python",
   "name": "conda-env-py35-py"
  },
  "language_info": {
   "codemirror_mode": {
    "name": "ipython",
    "version": 3
   },
   "file_extension": ".py",
   "mimetype": "text/x-python",
   "name": "python",
   "nbconvert_exporter": "python",
   "pygments_lexer": "ipython3",
   "version": "3.5.2"
  }
 },
 "nbformat": 4,
 "nbformat_minor": 1
}
